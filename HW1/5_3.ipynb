{
 "cells": [
  {
   "cell_type": "code",
   "execution_count": 1,
   "id": "c32f4cdc-ed40-4a7f-b68a-9aa96c0579c1",
   "metadata": {},
   "outputs": [],
   "source": [
    "#No code"
   ]
  },
  {
   "cell_type": "markdown",
   "id": "bb45ace6-223c-4107-9f6d-c60d9b3c5d51",
   "metadata": {},
   "source": [
    "Discussion: When I first encountered the concept of a computational graph, I thought, \"Is this really necessary?\" However, I came to realize that it's a very important concept because it allows us to intuitively and clearly understand how a single operation or value affects the final result, even when the calculations become very complex. I once implemented a simple version of a computational graph, and although it was difficult to implement, I remember that it was faster in execution compared to the general method of calculating gradients."
   ]
  }
 ],
 "metadata": {
  "kernelspec": {
   "display_name": "Python 3 (ipykernel)",
   "language": "python",
   "name": "python3"
  },
  "language_info": {
   "codemirror_mode": {
    "name": "ipython",
    "version": 3
   },
   "file_extension": ".py",
   "mimetype": "text/x-python",
   "name": "python",
   "nbconvert_exporter": "python",
   "pygments_lexer": "ipython3",
   "version": "3.11.8"
  }
 },
 "nbformat": 4,
 "nbformat_minor": 5
}
