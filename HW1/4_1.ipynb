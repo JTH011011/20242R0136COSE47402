{
 "cells": [
  {
   "cell_type": "code",
   "execution_count": 1,
   "id": "9b41da13-518d-48fe-824b-40cdaac09f52",
   "metadata": {},
   "outputs": [],
   "source": [
    "# no code"
   ]
  },
  {
   "cell_type": "markdown",
   "id": "c4f4287b-8129-4fd3-a82c-4751849b4bee",
   "metadata": {},
   "source": [
    "Discussion: In this chapter, I learned about softmax regression, a method for estimating the probability that a given input belongs to a specific class. I had previously read a popular science book on deep learning, where I vaguely understood that the softmax function outputs values between 0 and 1, sums them to 1, and that these values represent probabilities. However, I didn't fully understand the detailed process of how the loss function is calculated using one-hot encoding. This was something new I learned. I also found it interesting that Cross-Entropy Error (CEE) is used as the loss function."
   ]
  }
 ],
 "metadata": {
  "kernelspec": {
   "display_name": "Python 3 (ipykernel)",
   "language": "python",
   "name": "python3"
  },
  "language_info": {
   "codemirror_mode": {
    "name": "ipython",
    "version": 3
   },
   "file_extension": ".py",
   "mimetype": "text/x-python",
   "name": "python",
   "nbconvert_exporter": "python",
   "pygments_lexer": "ipython3",
   "version": "3.11.8"
  }
 },
 "nbformat": 4,
 "nbformat_minor": 5
}
