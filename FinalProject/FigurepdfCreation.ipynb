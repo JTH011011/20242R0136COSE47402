{
  "nbformat": 4,
  "nbformat_minor": 0,
  "metadata": {
    "colab": {
      "provenance": []
    },
    "kernelspec": {
      "name": "python3",
      "display_name": "Python 3"
    },
    "language_info": {
      "name": "python"
    }
  },
  "cells": [
    {
      "cell_type": "code",
      "execution_count": 1,
      "metadata": {
        "colab": {
          "base_uri": "https://localhost:8080/"
        },
        "id": "hZ4285ceEMlF",
        "outputId": "1e96eda7-90c7-4905-8349-3162ef8d2720"
      },
      "outputs": [
        {
          "output_type": "stream",
          "name": "stdout",
          "text": [
            "Requirement already satisfied: graphviz in /usr/local/lib/python3.10/dist-packages (0.20.3)\n"
          ]
        }
      ],
      "source": [
        "!pip install graphviz\n"
      ]
    },
    {
      "cell_type": "code",
      "source": [
        "from graphviz import Digraph\n",
        "\n",
        "# Create a new directed graph with a structured layout\n",
        "dot = Digraph(format='pdf', comment='Refined YOLOv8 Experimental Pipeline')\n",
        "\n",
        "# Add nodes with rectangular shapes for clarity\n",
        "dot.node('A', 'Input Image', shape='box', style='filled', color='lightblue')\n",
        "dot.node('B', 'Image Resizing\\n(320x320)', shape='box', style='filled', color='lightgreen')\n",
        "dot.node('C', 'Zero-Shot Evaluation', shape='box', style='filled', color='gold')\n",
        "dot.node('D', 'Training with Limited Data\\n(Curated Dataset)', shape='box', style='filled', color='orange')\n",
        "dot.node('E', 'Performance Comparison\\n(Zero-Shot vs. Trained)', shape='box', style='filled', color='lightpink')\n",
        "\n",
        "# Add edges with proper labels and structured connections\n",
        "dot.edge('A', 'B', label='Step 1', arrowhead='normal')\n",
        "dot.edge('B', 'C', label='Step 2', arrowhead='normal')\n",
        "dot.edge('B', 'D', label='Step 3', arrowhead='normal')\n",
        "dot.edge('C', 'E', label='Step 4', arrowhead='normal')\n",
        "dot.edge('D', 'E', label='Step 5', arrowhead='normal')\n",
        "\n",
        "# Save the graph to a PDF file\n",
        "dot.render('refined_pipeline_diagram', format='pdf', cleanup=True)\n",
        "\n",
        "# Provide a success message\n",
        "print(\"Diagram saved as 'refined_pipeline_diagram.pdf'\")\n",
        "\n"
      ],
      "metadata": {
        "colab": {
          "base_uri": "https://localhost:8080/"
        },
        "id": "ckjiBldtEQ1_",
        "outputId": "4c917c82-8a7d-434f-898d-f511f1071150"
      },
      "execution_count": 5,
      "outputs": [
        {
          "output_type": "stream",
          "name": "stdout",
          "text": [
            "Diagram saved as 'refined_pipeline_diagram.pdf'\n"
          ]
        }
      ]
    }
  ]
}